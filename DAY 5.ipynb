{
 "cells": [
  {
   "cell_type": "code",
   "execution_count": 10,
   "metadata": {},
   "outputs": [
    {
     "name": "stdout",
     "output_type": "stream",
     "text": [
      "python123is456good\n",
      "6\n"
     ]
    }
   ],
   "source": [
    "#count no.of digits in the given string\n",
    "#input:\"python123is456good789\"\n",
    "#output:9\n",
    "s=input()\n",
    "i=0\n",
    "count = 0\n",
    "while i<len(s):\n",
    "    if s[i].isdigit():\n",
    "        count +=1\n",
    "    i +=1\n",
    "print(count)"
   ]
  },
  {
   "cell_type": "code",
   "execution_count": 13,
   "metadata": {},
   "outputs": [
    {
     "name": "stdout",
     "output_type": "stream",
     "text": [
      "12473\n",
      "count is : 5 sum of digit is: 17\n"
     ]
    }
   ],
   "source": [
    "s=input()\n",
    "i=0\n",
    "count = 0\n",
    "sum = 0\n",
    "while i<len(s):\n",
    "    if s[i].isdigit():\n",
    "        count +=1\n",
    "        sum += int(s[i])\n",
    "    i += 1\n",
    "print(\"count is :\",count,\"sum of digit is:\",sum)"
   ]
  },
  {
   "cell_type": "code",
   "execution_count": 14,
   "metadata": {},
   "outputs": [
    {
     "name": "stdout",
     "output_type": "stream",
     "text": [
      "12345867\n",
      "8\n",
      "36\n"
     ]
    }
   ],
   "source": [
    "s=input()\n",
    "i=0\n",
    "count = 0\n",
    "sum = 0\n",
    "while i<len(s):\n",
    "    if s[i].isdigit():\n",
    "        count +=1\n",
    "        sum += int(s[i])\n",
    "    i += 1\n",
    "print(count)\n",
    "print(sum)"
   ]
  },
  {
   "cell_type": "code",
   "execution_count": 1,
   "metadata": {
    "scrolled": true
   },
   "outputs": [
    {
     "name": "stdout",
     "output_type": "stream",
     "text": [
      "enter a number20\n",
      "135791113151719"
     ]
    }
   ],
   "source": [
    "#for loop\n",
    "#1.using range()\n",
    "#2.using iterable object\n",
    "n=int(input(\"enter a number\"))\n",
    "for i in range(1,n+1,2):\n",
    "    print(i,end=\"\")\n",
    "    \n"
   ]
  },
  {
   "cell_type": "code",
   "execution_count": 1,
   "metadata": {
    "scrolled": false
   },
   "outputs": [
    {
     "name": "stdout",
     "output_type": "stream",
     "text": [
      "enter the stringpalindrom\n",
      "p a l i n d r o m "
     ]
    }
   ],
   "source": [
    "s=input(\"enter the string\")\n",
    "i=0\n",
    "while i<len(s):\n",
    "    print(s[i],end=\" \")\n",
    "    i+=1"
   ]
  },
  {
   "cell_type": "code",
   "execution_count": 6,
   "metadata": {},
   "outputs": [
    {
     "name": "stdout",
     "output_type": "stream",
     "text": [
      "enter the string python\n",
      "  p y t h o n \n",
      "  p y t h o n "
     ]
    }
   ],
   "source": [
    "s=input(\"enter the string\")\n",
    "i=0\n",
    "while i<len(s):\n",
    "    print(s[i],end=\" \")\n",
    "    i+=1\n",
    "print()\n",
    "for i in range(0,len(s)):\n",
    "    print(s[i],end=\" \")"
   ]
  },
  {
   "cell_type": "code",
   "execution_count": 7,
   "metadata": {},
   "outputs": [
    {
     "name": "stdout",
     "output_type": "stream",
     "text": [
      "enter the string  python\n",
      "    p y t h o n \n",
      "    p y t h o n \n",
      "    p y t h o n "
     ]
    }
   ],
   "source": [
    "s=input(\"enter the string\")\n",
    "i=0\n",
    "while i<len(s):\n",
    "    print(s[i],end=\" \")\n",
    "    i+=1\n",
    "print()\n",
    "for i in range(0,len(s)):\n",
    "    print(s[i],end=\" \")\n",
    "print()\n",
    "for i in s:\n",
    "    print(i,end=\" \")"
   ]
  },
  {
   "cell_type": "markdown",
   "metadata": {},
   "source": [
    "## collection type Data type\n",
    "### List\n",
    "1. for creating a list use[]\n",
    "2. List are mutable\n",
    "3. List are indexed\n",
    "4. List are ordered\n",
    "5. List allows duplicate values\n",
    "6. it store  hertogenous values\n"
   ]
  },
  {
   "cell_type": "code",
   "execution_count": 8,
   "metadata": {},
   "outputs": [
    {
     "name": "stdout",
     "output_type": "stream",
     "text": [
      "True\n",
      "[456, 56]\n"
     ]
    }
   ],
   "source": [
    "list1 =[23,34,456,56,67,\"string\",True]\n",
    "print(list1[-1])\n",
    "print(list1[2:4])"
   ]
  },
  {
   "cell_type": "code",
   "execution_count": 17,
   "metadata": {},
   "outputs": [
    {
     "name": "stdout",
     "output_type": "stream",
     "text": [
      "[1, 2, 3]\n",
      "[45, 56]\n",
      "gnirts\n",
      "3\n"
     ]
    }
   ],
   "source": [
    "list1 =[23,34,45,56,67,\"string\",True,[1,2,3]]\n",
    "print(list1[-1])\n",
    "print(list1[2:4])\n",
    "print(list1[-3][::-1])\n",
    "print(list1[-1][-1])"
   ]
  },
  {
   "cell_type": "code",
   "execution_count": 19,
   "metadata": {},
   "outputs": [
    {
     "name": "stdout",
     "output_type": "stream",
     "text": [
      "Before adding elements: [33, 45, 56, 67]\n",
      "After adding elements: [33, 45, 56, 67, 100, 200, 300]\n"
     ]
    }
   ],
   "source": [
    "#Manipulating a list\n",
    "#1.Adding elements\n",
    "list1 =[33,45,56,67]\n",
    "print(\"Before adding elements:\",list1)\n",
    "list1.append(100)\n",
    "list1.append(200)\n",
    "list1.append(300)\n",
    "print(\"After adding elements:\",list1)"
   ]
  },
  {
   "cell_type": "code",
   "execution_count": 20,
   "metadata": {},
   "outputs": [
    {
     "data": {
      "text/plain": [
       "[33, 45, 500, 56, 67, 100, 200, 300]"
      ]
     },
     "execution_count": 20,
     "metadata": {},
     "output_type": "execute_result"
    }
   ],
   "source": [
    "list1.insert(2,500)\n",
    "list1"
   ]
  },
  {
   "cell_type": "code",
   "execution_count": 25,
   "metadata": {},
   "outputs": [
    {
     "name": "stdout",
     "output_type": "stream",
     "text": [
      "[45, 56, 67, 200, 300]\n"
     ]
    }
   ],
   "source": [
    "list1.remove(500)\n",
    "print(list1)"
   ]
  },
  {
   "cell_type": "code",
   "execution_count": 26,
   "metadata": {},
   "outputs": [
    {
     "data": {
      "text/plain": [
       "[45, 56, 67, 1000, 300]"
      ]
     },
     "execution_count": 26,
     "metadata": {},
     "output_type": "execute_result"
    }
   ],
   "source": [
    "#replacin an element\n",
    "list1[3] = 1000\n",
    "list1"
   ]
  },
  {
   "cell_type": "code",
   "execution_count": 29,
   "metadata": {},
   "outputs": [
    {
     "data": {
      "text/plain": [
       "[67, 3, 20, 10, 1, 74, 46, 45, 44, 33]"
      ]
     },
     "execution_count": 29,
     "metadata": {},
     "output_type": "execute_result"
    }
   ],
   "source": [
    "#sorting an array\n",
    "list1 =[33,44,45,46,74,1,10,20,3,67]\n",
    "list1.reverse()\n",
    "list1"
   ]
  },
  {
   "cell_type": "code",
   "execution_count": 30,
   "metadata": {},
   "outputs": [
    {
     "data": {
      "text/plain": [
       "1"
      ]
     },
     "execution_count": 30,
     "metadata": {},
     "output_type": "execute_result"
    }
   ],
   "source": [
    "list1.count(46)"
   ]
  },
  {
   "cell_type": "code",
   "execution_count": 31,
   "metadata": {},
   "outputs": [
    {
     "name": "stdout",
     "output_type": "stream",
     "text": [
      "<class 'list'>    [67, 3, 20, 10, 1, 74, 46, 45, 44, 33]\n"
     ]
    }
   ],
   "source": [
    "list2 = list1\n",
    "print(list,\"  \",list2);"
   ]
  },
  {
   "cell_type": "code",
   "execution_count": 34,
   "metadata": {},
   "outputs": [
    {
     "name": "stdout",
     "output_type": "stream",
     "text": [
      "[1, 2, 3, 4] [1, 2, 3, 4] [5, 6, 7, 8]\n"
     ]
    }
   ],
   "source": [
    "l1 = [1,2,3,4]\n",
    "l2=l1\n",
    "l3 = [5,6,7,8]\n",
    "print(l1,l2,l3)"
   ]
  },
  {
   "cell_type": "code",
   "execution_count": 35,
   "metadata": {},
   "outputs": [
    {
     "name": "stdout",
     "output_type": "stream",
     "text": [
      "[1, 2, 3, 4] [1, 2, 3, 4] [5, 6, 7, 8]\n",
      "[1, 2, 3, 4, 1000] [1, 2, 3, 4, 1000] [5, 6, 7, 8]\n"
     ]
    }
   ],
   "source": [
    "print(l1,l2,l3)\n",
    "l1.append(1000)\n",
    "print(l1,l2,l3)"
   ]
  },
  {
   "cell_type": "code",
   "execution_count": 39,
   "metadata": {},
   "outputs": [
    {
     "name": "stdout",
     "output_type": "stream",
     "text": [
      "[4, 16, 25, 49, 64]\n",
      "[4, 16, 25, 49, 64]\n"
     ]
    }
   ],
   "source": [
    "#input :[2,4,5,7,8]\n",
    "#output : [4,16,25,49,64]\n",
    "l1 = [2,4,5,7,8]\n",
    "l2 = []\n",
    "l3 = []\n",
    "for i in range(0,len(l1)):\n",
    "    l2.append(l1[i]**2)\n",
    "print(l2)\n",
    "for i in l1:\n",
    "    l3.append(i**2)\n",
    "print(l3)"
   ]
  },
  {
   "cell_type": "code",
   "execution_count": 41,
   "metadata": {},
   "outputs": [
    {
     "name": "stdout",
     "output_type": "stream",
     "text": [
      "[1, 1, 1]\n"
     ]
    }
   ],
   "source": [
    "l4 = []\n",
    "for i in l1:\n",
    "    if i%2==0:\n",
    "        l4.append(1)\n",
    "print(l4)"
   ]
  },
  {
   "cell_type": "code",
   "execution_count": 42,
   "metadata": {},
   "outputs": [
    {
     "name": "stdout",
     "output_type": "stream",
     "text": [
      "5\n",
      "2\n",
      "3\n",
      "3\n",
      "3\n",
      "3\n",
      "357\n"
     ]
    }
   ],
   "source": [
    "#create a list and accept values of the list at runtime\n",
    "#and print sum of all the elements of the list\n",
    "li = []\n",
    "n = int(input())\n",
    "for i in range(n):\n",
    "    list1.append(int(input()))\n",
    "print(sum(list1))\n"
   ]
  },
  {
   "cell_type": "code",
   "execution_count": 3,
   "metadata": {},
   "outputs": [
    {
     "name": "stdout",
     "output_type": "stream",
     "text": [
      "5\n",
      "2\n",
      "3\n",
      "4\n",
      "5\n",
      "6\n",
      "20\n"
     ]
    }
   ],
   "source": [
    "list1 = []\n",
    "n = int(input())\n",
    "for i in range(n):\n",
    "    list1.append(int(input()))\n",
    "a=sum(list1)\n",
    "print(a)"
   ]
  },
  {
   "cell_type": "markdown",
   "metadata": {},
   "source": [
    "## Tuple:\n"
   ]
  },
  {
   "cell_type": "code",
   "execution_count": 5,
   "metadata": {},
   "outputs": [
    {
     "name": "stdout",
     "output_type": "stream",
     "text": [
      "23 34 5\n"
     ]
    }
   ],
   "source": [
    "tup1 =(23,34,5)\n",
    "x,y,z = tup1\n",
    "print(x,y,z)"
   ]
  },
  {
   "cell_type": "markdown",
   "metadata": {},
   "source": [
    "### Dictionary:\n",
    "#### syntax : {key1:value1,key2:value2,.....)\n",
    "\n",
    "#### key :\n",
    "1. key should be unique\n",
    "2. key should be immutable-->int,float,string,tuple"
   ]
  },
  {
   "cell_type": "code",
   "execution_count": 6,
   "metadata": {},
   "outputs": [
    {
     "data": {
      "text/plain": [
       "'crt'"
      ]
     },
     "execution_count": 6,
     "metadata": {},
     "output_type": "execute_result"
    }
   ],
   "source": [
    "dict1 ={\"name\":\"king\",\"course\":\"crt\",\"address\":\"hyd\"}\n",
    "dict1[\"course\"]"
   ]
  },
  {
   "cell_type": "code",
   "execution_count": 7,
   "metadata": {},
   "outputs": [
    {
     "name": "stdout",
     "output_type": "stream",
     "text": [
      "{'name': 'king', 'course': 'c programming', 'address': 'hyd'}\n"
     ]
    }
   ],
   "source": [
    "#replace value\n",
    "dict1[\"course\"] = \"c programming\"\n",
    "print(dict1)"
   ]
  },
  {
   "cell_type": "code",
   "execution_count": 8,
   "metadata": {},
   "outputs": [
    {
     "name": "stdout",
     "output_type": "stream",
     "text": [
      "{'name': 'king', 'course': 'c programming', 'address': 'hyd', 'college': 'GITAM'}\n"
     ]
    }
   ],
   "source": [
    "#Adding entry\n",
    "dict1[\"college\"] = \"GITAM\"\n",
    "print(dict1)"
   ]
  },
  {
   "cell_type": "code",
   "execution_count": 9,
   "metadata": {},
   "outputs": [
    {
     "name": "stdout",
     "output_type": "stream",
     "text": [
      "{'name': 'king', 'course': 'c programming', 'college': 'GITAM'}\n"
     ]
    }
   ],
   "source": [
    "#Removing entry\n",
    "del dict1[\"address\"]\n",
    "print(dict1)"
   ]
  },
  {
   "cell_type": "markdown",
   "metadata": {},
   "source": [
    "## Function\n",
    "### def name_of_the_function(arg list):\n",
    "#####     statements\n",
    "#####     return"
   ]
  },
  {
   "cell_type": "code",
   "execution_count": 10,
   "metadata": {},
   "outputs": [
    {
     "name": "stdout",
     "output_type": "stream",
     "text": [
      "30\n",
      "None\n",
      "300\n",
      "None\n"
     ]
    }
   ],
   "source": [
    "def add(x,y):#function definition\n",
    "    print(x+y)\n",
    "    \n",
    "print(add(10,20))#function calling\n",
    "print(add(100,200))"
   ]
  },
  {
   "cell_type": "code",
   "execution_count": 11,
   "metadata": {},
   "outputs": [
    {
     "name": "stdout",
     "output_type": "stream",
     "text": [
      "27\n"
     ]
    }
   ],
   "source": [
    "def square(x):\n",
    "    return x*x\n",
    "def cube(x):\n",
    "    return square(x)*x\n",
    "\n",
    "print(cube(3))"
   ]
  },
  {
   "cell_type": "code",
   "execution_count": null,
   "metadata": {},
   "outputs": [],
   "source": []
  }
 ],
 "metadata": {
  "kernelspec": {
   "display_name": "Python 3",
   "language": "python",
   "name": "python3"
  },
  "language_info": {
   "codemirror_mode": {
    "name": "ipython",
    "version": 3
   },
   "file_extension": ".py",
   "mimetype": "text/x-python",
   "name": "python",
   "nbconvert_exporter": "python",
   "pygments_lexer": "ipython3",
   "version": "3.7.4"
  }
 },
 "nbformat": 4,
 "nbformat_minor": 2
}
